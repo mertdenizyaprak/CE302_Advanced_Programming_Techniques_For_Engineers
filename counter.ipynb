{
  "nbformat": 4,
  "nbformat_minor": 0,
  "metadata": {
    "colab": {
      "name": "Colaboratory'ye Hoş Geldiniz",
      "provenance": [],
      "collapsed_sections": [],
      "toc_visible": true,
      "include_colab_link": true
    },
    "kernelspec": {
      "display_name": "Python 3",
      "name": "python3"
    }
  },
  "cells": [
    {
      "cell_type": "markdown",
      "metadata": {
        "id": "view-in-github",
        "colab_type": "text"
      },
      "source": [
        "<a href=\"https://colab.research.google.com/github/mertdenizyaprak/CE302_Advanced_Programming_Techniques_For_Engineers/blob/main/counter.ipynb\" target=\"_parent\"><img src=\"https://colab.research.google.com/assets/colab-badge.svg\" alt=\"Open In Colab\"/></a>"
      ]
    },
    {
      "cell_type": "code",
      "metadata": {
        "colab": {
          "base_uri": "https://localhost:8080/"
        },
        "id": "tz50Q3lYiJTm",
        "outputId": "764c41ce-6f3e-451c-a51e-348b94928e4a"
      },
      "source": [
        "import os, pandas as pd , time , datetime, numpy as np \n",
        "\n",
        "import threading # module for multithreading\n",
        "\n",
        "#%% \n",
        "exitFlag = 0\n",
        "\n",
        "class MyThread( threading.Thread) :\n",
        "    def __init__( self , threatID , name , my_delay) :\n",
        "        threading.Thread.__init__(self)\n",
        "        self.threatID = threatID\n",
        "        self.name  = name \n",
        "        self.delay = my_delay\n",
        "        \n",
        "    def run(self):\n",
        "        print( f\"Starting : {self.name}\" )\n",
        "\n",
        "        print_time( self.name , self.delay , 5 )\n",
        "\n",
        "        print( f\"Exiting : {self.name}\")\n",
        "\n",
        "def print_time( threadName ,  my_delay , counter ):\n",
        "\n",
        "    while counter :\n",
        "        if exitFlag : \n",
        "            threadName.exit()\n",
        "        time.sleep( my_delay )\n",
        "        directory = \"counter\"\n",
        "  \n",
        "        parent_dir = \"CE302_Advanced_Programming_Techniques_For_Engineers/CodeOutput/ \"\n",
        "\n",
        "        path = os.path.join(parent_dir, directory)\n",
        "  \n",
        "\n",
        "        os.mkdir(path)\n",
        "\n",
        "        print( f\"{threadName} : time is {time.ctime(time.time())}\")\n",
        "\n",
        "        counter -= 1\n",
        "\n",
        "#%%\n",
        "# Crate the threats\n",
        "\n",
        "thread_1 = MyThread( 1 , \"Thread name 1\" , 1)\n",
        "\n",
        "thread_2 = MyThread( 2 , \"Thread name 2\" , 5)\n",
        "\n",
        "# Start the threads\n",
        "\n",
        "#%%\n",
        "\n",
        "thread_1.start()\n",
        "thread_2.start()\n",
        "\n",
        "print( f\"The file is ok\")\n"
      ],
      "execution_count": 7,
      "outputs": [
        {
          "output_type": "stream",
          "text": [
            "Starting : Thread name 1\n",
            "Starting : Thread name 2\n",
            "The file is ok\n"
          ],
          "name": "stdout"
        }
      ]
    },
    {
      "cell_type": "code",
      "metadata": {
        "colab": {
          "base_uri": "https://localhost:8080/",
          "height": 162
        },
        "id": "8WZqNUZAiKH8",
        "outputId": "d6b12f71-0115-4b74-c2b3-0838fb2febd7"
      },
      "source": [
        "counter\n"
      ],
      "execution_count": 6,
      "outputs": [
        {
          "output_type": "error",
          "ename": "NameError",
          "evalue": "ignored",
          "traceback": [
            "\u001b[0;31m---------------------------------------------------------------------------\u001b[0m",
            "\u001b[0;31mNameError\u001b[0m                                 Traceback (most recent call last)",
            "\u001b[0;32m<ipython-input-6-1cbe4252e8d3>\u001b[0m in \u001b[0;36m<module>\u001b[0;34m()\u001b[0m\n\u001b[0;32m----> 1\u001b[0;31m \u001b[0mcounter\u001b[0m\u001b[0;34m\u001b[0m\u001b[0;34m\u001b[0m\u001b[0m\n\u001b[0m",
            "\u001b[0;31mNameError\u001b[0m: name 'counter' is not defined"
          ]
        }
      ]
    },
    {
      "cell_type": "code",
      "metadata": {
        "id": "Rw4dytIZlJbO"
      },
      "source": [
        ""
      ],
      "execution_count": null,
      "outputs": []
    }
  ]
}